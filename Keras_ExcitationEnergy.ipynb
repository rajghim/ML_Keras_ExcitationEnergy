{
 "cells": [
  {
   "cell_type": "markdown",
   "metadata": {},
   "source": [
    "## Excitation Energy Calculation"
   ]
  },
  {
   "cell_type": "code",
   "execution_count": 2,
   "metadata": {},
   "outputs": [],
   "source": [
    "import pandas as pd\n",
    "import numpy as np\n",
    "import matplotlib.pyplot as plt\n",
    "import uproot3 as uproot\n",
    "from sklearn.model_selection import train_test_split\n",
    "from sklearn.preprocessing import MinMaxScaler\n",
    "from sklearn.metrics import mean_squared_error\n",
    "import tensorflow as tf\n",
    "import tensorflow.keras as keras\n",
    "from tensorflow.keras.models import Model,Sequential\n",
    "from tensorflow.keras.layers import Input,Dense, Dropout\n",
    "from tensorflow.keras.callbacks import ModelCheckpoint\n",
    "from tensorflow.keras.optimizers import SGD\n",
    "from tensorflow.keras.optimizers import Adam"
   ]
  },
  {
   "cell_type": "markdown",
   "metadata": {},
   "source": [
    "### Opening the reaction data file"
   ]
  },
  {
   "cell_type": "code",
   "execution_count": 3,
   "metadata": {},
   "outputs": [
    {
     "data": {
      "text/html": [
       "<div>\n",
       "<style scoped>\n",
       "    .dataframe tbody tr th:only-of-type {\n",
       "        vertical-align: middle;\n",
       "    }\n",
       "\n",
       "    .dataframe tbody tr th {\n",
       "        vertical-align: top;\n",
       "    }\n",
       "\n",
       "    .dataframe thead th {\n",
       "        text-align: right;\n",
       "    }\n",
       "</style>\n",
       "<table border=\"1\" class=\"dataframe\">\n",
       "  <thead>\n",
       "    <tr style=\"text-align: right;\">\n",
       "      <th></th>\n",
       "      <th>QQQ5Energy</th>\n",
       "      <th>QQQ5Angle</th>\n",
       "      <th>ExcitationEnergy</th>\n",
       "    </tr>\n",
       "    <tr>\n",
       "      <th>entry</th>\n",
       "      <th></th>\n",
       "      <th></th>\n",
       "      <th></th>\n",
       "    </tr>\n",
       "  </thead>\n",
       "  <tbody>\n",
       "    <tr>\n",
       "      <th>0</th>\n",
       "      <td>1063637484</td>\n",
       "      <td>155.262405</td>\n",
       "      <td>12.149085</td>\n",
       "    </tr>\n",
       "    <tr>\n",
       "      <th>1</th>\n",
       "      <td>1059124047</td>\n",
       "      <td>159.293854</td>\n",
       "      <td>13.080540</td>\n",
       "    </tr>\n",
       "    <tr>\n",
       "      <th>2</th>\n",
       "      <td>1066086790</td>\n",
       "      <td>137.446548</td>\n",
       "      <td>12.461211</td>\n",
       "    </tr>\n",
       "    <tr>\n",
       "      <th>3</th>\n",
       "      <td>1059494893</td>\n",
       "      <td>139.940186</td>\n",
       "      <td>13.741109</td>\n",
       "    </tr>\n",
       "    <tr>\n",
       "      <th>4</th>\n",
       "      <td>1064273864</td>\n",
       "      <td>135.778900</td>\n",
       "      <td>13.030253</td>\n",
       "    </tr>\n",
       "  </tbody>\n",
       "</table>\n",
       "</div>"
      ],
      "text/plain": [
       "       QQQ5Energy   QQQ5Angle  ExcitationEnergy\n",
       "entry                                          \n",
       "0      1063637484  155.262405         12.149085\n",
       "1      1059124047  159.293854         13.080540\n",
       "2      1066086790  137.446548         12.461211\n",
       "3      1059494893  139.940186         13.741109\n",
       "4      1064273864  135.778900         13.030253"
      ]
     },
     "execution_count": 3,
     "metadata": {},
     "output_type": "execute_result"
    }
   ],
   "source": [
    "InputFile = uproot.open(\"InputFile/QQQ5Data.root\")\n",
    "InputFile.keys()\n",
    "InputTree=InputFile[\"Q5Tree\"]\n",
    "InputTree.keys()\n",
    "InputTree.arrays([\"QQQ5Energy\",\"QQQ5Angle\",\"ExcitationEnergy\"])\n",
    "df = InputTree.pandas.df([\"QQQ5Energy*\",\"QQQ5Angle*\",\"ExcitationEnergy*\"])\n",
    "df.head()"
   ]
  },
  {
   "cell_type": "markdown",
   "metadata": {},
   "source": [
    "## Preprocessing"
   ]
  },
  {
   "cell_type": "code",
   "execution_count": 4,
   "metadata": {},
   "outputs": [],
   "source": [
    "df_X = df.iloc[:, 0:2]\n",
    "df_Y = df.iloc[:, 2:]\n",
    "\n",
    "#Preprocessing using MinMaxScaler\n",
    "scaling = MinMaxScaler(feature_range=(-1,1))\n",
    "df_X[['QQQ5Energy','QQQ5Angle']] = scaling.fit_transform(df_X[['QQQ5Energy','QQQ5Angle']])\n",
    "\n",
    "#Making train and test data\n",
    "X_train, X_test, Y_train, Y_test = train_test_split(df_X,df_Y,test_size=0.2)"
   ]
  },
  {
   "cell_type": "markdown",
   "metadata": {},
   "source": [
    "### Sequential model with 5 hidden layers"
   ]
  },
  {
   "cell_type": "code",
   "execution_count": 5,
   "metadata": {},
   "outputs": [
    {
     "name": "stdout",
     "output_type": "stream",
     "text": [
      "WARNING:tensorflow:From /home/rajesh/.local/lib/python3.6/site-packages/tensorflow/python/ops/init_ops.py:1251: calling VarianceScaling.__init__ (from tensorflow.python.ops.init_ops) with dtype is deprecated and will be removed in a future version.\n",
      "Instructions for updating:\n",
      "Call initializer instance with the dtype argument instead of passing it to the constructor\n",
      "Model: \"model\"\n",
      "_________________________________________________________________\n",
      "Layer (type)                 Output Shape              Param #   \n",
      "=================================================================\n",
      "input_1 (InputLayer)         [(None, 2)]               0         \n",
      "_________________________________________________________________\n",
      "dense (Dense)                (None, 32)                96        \n",
      "_________________________________________________________________\n",
      "dense_1 (Dense)              (None, 64)                2112      \n",
      "_________________________________________________________________\n",
      "dropout (Dropout)            (None, 64)                0         \n",
      "_________________________________________________________________\n",
      "dense_2 (Dense)              (None, 128)               8320      \n",
      "_________________________________________________________________\n",
      "dropout_1 (Dropout)          (None, 128)               0         \n",
      "_________________________________________________________________\n",
      "dense_3 (Dense)              (None, 64)                8256      \n",
      "_________________________________________________________________\n",
      "dropout_2 (Dropout)          (None, 64)                0         \n",
      "_________________________________________________________________\n",
      "dense_4 (Dense)              (None, 32)                2080      \n",
      "_________________________________________________________________\n",
      "dense_5 (Dense)              (None, 1)                 33        \n",
      "=================================================================\n",
      "Total params: 20,897\n",
      "Trainable params: 20,897\n",
      "Non-trainable params: 0\n",
      "_________________________________________________________________\n"
     ]
    }
   ],
   "source": [
    "#Layers\n",
    "inputs=Input(shape=(X_train.shape[1],)) \n",
    "x=Dense(32,activation='relu') (inputs)\n",
    "x=Dense(64,activation='relu') (x)\n",
    "x=Dropout(0.3)(x)\n",
    "x=Dense(128,activation='relu') (x)\n",
    "x=Dropout(0.3)(x)\n",
    "x=Dense(64,activation='relu') (x)\n",
    "x=Dropout(0.3)(x)\n",
    "x=Dense(32,activation='relu') (x)\n",
    "predictions=Dense(1) (x)\n",
    "\n",
    "#Model\n",
    "model=Model(inputs=inputs, outputs=predictions)\n",
    "model.summary()\n",
    "\n",
    "#Compile\n",
    "opt = Adam(lr=0.001)\n",
    "model.compile(optimizer=opt, loss='mse',metrics=[\"mape\"])\n",
    "\n",
    "mcp_save = ModelCheckpoint('Model.h5', save_best_only=True, verbose=1)"
   ]
  },
  {
   "cell_type": "markdown",
   "metadata": {},
   "source": [
    "### Fitting"
   ]
  },
  {
   "cell_type": "code",
   "execution_count": 6,
   "metadata": {
    "scrolled": true
   },
   "outputs": [
    {
     "name": "stdout",
     "output_type": "stream",
     "text": [
      "Train on 386100 samples, validate on 96526 samples\n",
      "Epoch 1/20\n",
      "385728/386100 [============================>.] - ETA: 0s - loss: 1.2109 - mean_absolute_percentage_error: 41.8619\n",
      "Epoch 00001: val_loss improved from inf to 0.41377, saving model to Model.h5\n",
      "386100/386100 [==============================] - 23s 61us/sample - loss: 1.2099 - mean_absolute_percentage_error: 41.8290 - val_loss: 0.4138 - val_mean_absolute_percentage_error: 51.2597\n",
      "Epoch 2/20\n",
      "385824/386100 [============================>.] - ETA: 0s - loss: 0.0610 - mean_absolute_percentage_error: 20.0049\n",
      "Epoch 00002: val_loss did not improve from 0.41377\n",
      "386100/386100 [==============================] - 24s 61us/sample - loss: 0.0610 - mean_absolute_percentage_error: 19.9968 - val_loss: 0.6459 - val_mean_absolute_percentage_error: 34.3211\n",
      "Epoch 3/20\n",
      "385664/386100 [============================>.] - ETA: 0s - loss: 0.0400 - mean_absolute_percentage_error: 12.0009\n",
      "Epoch 00003: val_loss did not improve from 0.41377\n",
      "386100/386100 [==============================] - 23s 59us/sample - loss: 0.0400 - mean_absolute_percentage_error: 11.9936 - val_loss: 0.6666 - val_mean_absolute_percentage_error: 23.3323\n",
      "Epoch 4/20\n",
      "385408/386100 [============================>.] - ETA: 0s - loss: 0.0326 - mean_absolute_percentage_error: 12.2091\n",
      "Epoch 00004: val_loss did not improve from 0.41377\n",
      "386100/386100 [==============================] - 24s 61us/sample - loss: 0.0326 - mean_absolute_percentage_error: 12.1918 - val_loss: 0.6057 - val_mean_absolute_percentage_error: 38.3757\n",
      "Epoch 5/20\n",
      "385952/386100 [============================>.] - ETA: 0s - loss: 0.0296 - mean_absolute_percentage_error: 8.4870\n",
      "Epoch 00005: val_loss did not improve from 0.41377\n",
      "386100/386100 [==============================] - 23s 61us/sample - loss: 0.0296 - mean_absolute_percentage_error: 8.4855 - val_loss: 0.5504 - val_mean_absolute_percentage_error: 35.2744\n",
      "Epoch 6/20\n",
      "385536/386100 [============================>.] - ETA: 0s - loss: 0.0288 - mean_absolute_percentage_error: 8.5348\n",
      "Epoch 00006: val_loss did not improve from 0.41377\n",
      "386100/386100 [==============================] - 23s 60us/sample - loss: 0.0288 - mean_absolute_percentage_error: 8.5250 - val_loss: 0.5395 - val_mean_absolute_percentage_error: 28.3497\n",
      "Epoch 7/20\n",
      "385184/386100 [============================>.] - ETA: 0s - loss: 0.0288 - mean_absolute_percentage_error: 10.2118\n",
      "Epoch 00007: val_loss did not improve from 0.41377\n",
      "386100/386100 [==============================] - 23s 60us/sample - loss: 0.0288 - mean_absolute_percentage_error: 10.2029 - val_loss: 0.5039 - val_mean_absolute_percentage_error: 40.0392\n",
      "Epoch 8/20\n",
      "385312/386100 [============================>.] - ETA: 0s - loss: 0.0254 - mean_absolute_percentage_error: 10.1817\n",
      "Epoch 00008: val_loss did not improve from 0.41377\n",
      "386100/386100 [==============================] - 24s 61us/sample - loss: 0.0254 - mean_absolute_percentage_error: 10.1675 - val_loss: 0.4448 - val_mean_absolute_percentage_error: 34.0410\n",
      "Epoch 9/20\n",
      "386048/386100 [============================>.] - ETA: 0s - loss: 0.0250 - mean_absolute_percentage_error: 6.8623\n",
      "Epoch 00009: val_loss improved from 0.41377 to 0.39768, saving model to Model.h5\n",
      "386100/386100 [==============================] - 24s 62us/sample - loss: 0.0250 - mean_absolute_percentage_error: 6.8615 - val_loss: 0.3977 - val_mean_absolute_percentage_error: 33.6540\n",
      "Epoch 10/20\n",
      "385728/386100 [============================>.] - ETA: 0s - loss: 0.0246 - mean_absolute_percentage_error: 6.6382\n",
      "Epoch 00010: val_loss improved from 0.39768 to 0.39492, saving model to Model.h5\n",
      "386100/386100 [==============================] - 23s 61us/sample - loss: 0.0246 - mean_absolute_percentage_error: 6.6339 - val_loss: 0.3949 - val_mean_absolute_percentage_error: 40.8783\n",
      "Epoch 11/20\n",
      "385760/386100 [============================>.] - ETA: 0s - loss: 0.0242 - mean_absolute_percentage_error: 6.9812\n",
      "Epoch 00011: val_loss improved from 0.39492 to 0.26932, saving model to Model.h5\n",
      "386100/386100 [==============================] - 26s 67us/sample - loss: 0.0242 - mean_absolute_percentage_error: 6.9772 - val_loss: 0.2693 - val_mean_absolute_percentage_error: 31.6457\n",
      "Epoch 12/20\n",
      "385312/386100 [============================>.] - ETA: 0s - loss: 0.0240 - mean_absolute_percentage_error: 7.7565\n",
      "Epoch 00012: val_loss did not improve from 0.26932\n",
      "386100/386100 [==============================] - 23s 61us/sample - loss: 0.0240 - mean_absolute_percentage_error: 7.7451 - val_loss: 0.2840 - val_mean_absolute_percentage_error: 20.8968\n",
      "Epoch 13/20\n",
      "385760/386100 [============================>.] - ETA: 0s - loss: 0.0233 - mean_absolute_percentage_error: 7.3557\n",
      "Epoch 00013: val_loss improved from 0.26932 to 0.23987, saving model to Model.h5\n",
      "386100/386100 [==============================] - 24s 62us/sample - loss: 0.0233 - mean_absolute_percentage_error: 7.3500 - val_loss: 0.2399 - val_mean_absolute_percentage_error: 19.0104\n",
      "Epoch 14/20\n",
      "385728/386100 [============================>.] - ETA: 0s - loss: 0.0233 - mean_absolute_percentage_error: 5.9772\n",
      "Epoch 00014: val_loss did not improve from 0.23987\n",
      "386100/386100 [==============================] - 24s 62us/sample - loss: 0.0233 - mean_absolute_percentage_error: 5.9756 - val_loss: 0.2487 - val_mean_absolute_percentage_error: 24.5690\n",
      "Epoch 15/20\n",
      "385888/386100 [============================>.] - ETA: 0s - loss: 0.0241 - mean_absolute_percentage_error: 6.6122\n",
      "Epoch 00015: val_loss improved from 0.23987 to 0.22591, saving model to Model.h5\n",
      "386100/386100 [==============================] - 24s 62us/sample - loss: 0.0242 - mean_absolute_percentage_error: 6.6161 - val_loss: 0.2259 - val_mean_absolute_percentage_error: 24.9426\n",
      "Epoch 16/20\n",
      "385280/386100 [============================>.] - ETA: 0s - loss: 0.0234 - mean_absolute_percentage_error: 7.4371\n",
      "Epoch 00016: val_loss did not improve from 0.22591\n",
      "386100/386100 [==============================] - 24s 61us/sample - loss: 0.0234 - mean_absolute_percentage_error: 7.4263 - val_loss: 0.2938 - val_mean_absolute_percentage_error: 18.2296\n",
      "Epoch 17/20\n",
      "385600/386100 [============================>.] - ETA: 0s - loss: 0.0224 - mean_absolute_percentage_error: 6.5596\n",
      "Epoch 00017: val_loss improved from 0.22591 to 0.20196, saving model to Model.h5\n",
      "386100/386100 [==============================] - 24s 61us/sample - loss: 0.0224 - mean_absolute_percentage_error: 6.5532 - val_loss: 0.2020 - val_mean_absolute_percentage_error: 18.8110\n",
      "Epoch 18/20\n",
      "386016/386100 [============================>.] - ETA: 0s - loss: 0.0220 - mean_absolute_percentage_error: 5.1036\n",
      "Epoch 00018: val_loss improved from 0.20196 to 0.13324, saving model to Model.h5\n",
      "386100/386100 [==============================] - 23s 61us/sample - loss: 0.0220 - mean_absolute_percentage_error: 5.1027 - val_loss: 0.1332 - val_mean_absolute_percentage_error: 15.7491\n",
      "Epoch 19/20\n",
      "385920/386100 [============================>.] - ETA: 0s - loss: 0.0206 - mean_absolute_percentage_error: 6.8179\n",
      "Epoch 00019: val_loss did not improve from 0.13324\n",
      "386100/386100 [==============================] - 24s 61us/sample - loss: 0.0206 - mean_absolute_percentage_error: 6.8156 - val_loss: 0.1540 - val_mean_absolute_percentage_error: 22.1092\n",
      "Epoch 20/20\n",
      "385824/386100 [============================>.] - ETA: 0s - loss: 0.0209 - mean_absolute_percentage_error: 7.2480\n",
      "Epoch 00020: val_loss did not improve from 0.13324\n",
      "386100/386100 [==============================] - 24s 61us/sample - loss: 0.0210 - mean_absolute_percentage_error: 7.2449 - val_loss: 0.1436 - val_mean_absolute_percentage_error: 31.6046\n"
     ]
    }
   ],
   "source": [
    "history = model.fit(X_train, Y_train, validation_data=(X_test, Y_test), epochs=20, batch_size=32, callbacks=[mcp_save])"
   ]
  },
  {
   "cell_type": "markdown",
   "metadata": {},
   "source": [
    "### Learning Curves"
   ]
  },
  {
   "cell_type": "code",
   "execution_count": 8,
   "metadata": {},
   "outputs": [
    {
     "data": {
      "image/png": "[encoded data removed]",
      "text/plain": [
       "<Figure size 432x288 with 1 Axes>"
      ]
     },
     "metadata": {
      "needs_background": "light"
     },
     "output_type": "display_data"
    },
    {
     "data": {
      "image/png": "[encoded data removed]",
      "text/plain": [
       "<Figure size 432x288 with 1 Axes>"
      ]
     },
     "metadata": {
      "needs_background": "light"
     },
     "output_type": "display_data"
    }
   ],
   "source": [
    "#Display of curves of loss and accuracy during training\n",
    "loss = history.history['loss']\n",
    "val_loss = history.history['val_loss']\n",
    "mape = history.history['mean_absolute_percentage_error']\n",
    "val_mape = history.history['val_mean_absolute_percentage_error']\n",
    "\n",
    "epochs = range(1, len(loss) + 1)\n",
    "\n",
    "plt.plot(epochs, mape, 'g--', label='Training Acc')\n",
    "plt.plot(epochs, val_mape, 'b--', label='Validation Acc')\n",
    "plt.title('Training and Validation Error',fontsize=18)\n",
    "plt.xlabel('Epochs',fontsize=12)\n",
    "plt.ylabel('Mean Abs Percent Error',fontsize=12)\n",
    "plt.ylim(0,100)\n",
    "plt.legend()\n",
    "plt.figure()\n",
    "plt.plot(epochs, loss, 'g--',label='Training Loss')\n",
    "plt.plot(epochs, val_loss,'b--', label='Validation loss')\n",
    "plt.title('Training and Validation Loss',fontsize=18)\n",
    "plt.xlabel('Epochs',fontsize=12)\n",
    "plt.ylabel('Loss',fontsize=12)\n",
    "plt.legend()\n",
    "plt.show()"
   ]
  }
 ],
 "metadata": {
  "kernelspec": {
   "display_name": "Python 3",
   "language": "python",
   "name": "python3"
  },
  "language_info": {
   "codemirror_mode": {
    "name": "ipython",
    "version": 3
   },
   "file_extension": ".py",
   "mimetype": "text/x-python",
   "name": "python",
   "nbconvert_exporter": "python",
   "pygments_lexer": "ipython3",
   "version": "3.6.9"
  }
 },
 "nbformat": 4,
 "nbformat_minor": 4
}
