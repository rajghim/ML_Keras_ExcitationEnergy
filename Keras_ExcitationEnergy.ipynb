{
 "cells": [
  {
   "cell_type": "markdown",
   "metadata": {},
   "source": [
    "## Excitation Energy Calculation"
   ]
  },
  {
   "cell_type": "code",
   "execution_count": 2,
   "metadata": {},
   "outputs": [],
   "source": [
    "import pandas as pd\n",
    "import numpy as np\n",
    "import matplotlib.pyplot as plt\n",
    "import uproot3 as uproot\n",
    "from sklearn.model_selection import train_test_split\n",
    "from sklearn.preprocessing import MinMaxScaler\n",
    "from sklearn.metrics import mean_squared_error\n",
    "import tensorflow as tf\n",
    "import tensorflow.keras as keras\n",
    "from tensorflow.keras.models import Model,Sequential\n",
    "from tensorflow.keras.layers import Input,Dense, Dropout\n",
    "from tensorflow.keras.callbacks import ModelCheckpoint\n",
    "from tensorflow.keras.optimizers import SGD\n",
    "from tensorflow.keras.optimizers import Adam"
   ]
  },
  {
   "cell_type": "markdown",
   "metadata": {},
   "source": [
    "### Opening the reaction data file"
   ]
  },
  {
   "cell_type": "code",
   "execution_count": 3,
   "metadata": {},
   "outputs": [
    {
     "data": {
      "text/html": [
       "<div>\n",
       "<style scoped>\n",
       "    .dataframe tbody tr th:only-of-type {\n",
       "        vertical-align: middle;\n",
       "    }\n",
       "\n",
       "    .dataframe tbody tr th {\n",
       "        vertical-align: top;\n",
       "    }\n",
       "\n",
       "    .dataframe thead th {\n",
       "        text-align: right;\n",
       "    }\n",
       "</style>\n",
       "<table border=\"1\" class=\"dataframe\">\n",
       "  <thead>\n",
       "    <tr style=\"text-align: right;\">\n",
       "      <th></th>\n",
       "      <th>QQQ5Energy</th>\n",
       "      <th>QQQ5Angle</th>\n",
       "      <th>ExcitationEnergy</th>\n",
       "    </tr>\n",
       "    <tr>\n",
       "      <th>entry</th>\n",
       "      <th></th>\n",
       "      <th></th>\n",
       "      <th></th>\n",
       "    </tr>\n",
       "  </thead>\n",
       "  <tbody>\n",
       "    <tr>\n",
       "      <th>0</th>\n",
       "      <td>0.897734</td>\n",
       "      <td>155.262405</td>\n",
       "      <td>12.149085</td>\n",
       "    </tr>\n",
       "    <tr>\n",
       "      <th>1</th>\n",
       "      <td>0.628713</td>\n",
       "      <td>159.293854</td>\n",
       "      <td>13.080540</td>\n",
       "    </tr>\n",
       "    <tr>\n",
       "      <th>2</th>\n",
       "      <td>1.087449</td>\n",
       "      <td>137.446548</td>\n",
       "      <td>12.461211</td>\n",
       "    </tr>\n",
       "    <tr>\n",
       "      <th>3</th>\n",
       "      <td>0.650817</td>\n",
       "      <td>139.940186</td>\n",
       "      <td>13.741109</td>\n",
       "    </tr>\n",
       "    <tr>\n",
       "      <th>4</th>\n",
       "      <td>0.935666</td>\n",
       "      <td>135.778900</td>\n",
       "      <td>13.030253</td>\n",
       "    </tr>\n",
       "  </tbody>\n",
       "</table>\n",
       "</div>"
      ],
      "text/plain": [
       "       QQQ5Energy   QQQ5Angle  ExcitationEnergy\n",
       "entry                                          \n",
       "0        0.897734  155.262405         12.149085\n",
       "1        0.628713  159.293854         13.080540\n",
       "2        1.087449  137.446548         12.461211\n",
       "3        0.650817  139.940186         13.741109\n",
       "4        0.935666  135.778900         13.030253"
      ]
     },
     "execution_count": 3,
     "metadata": {},
     "output_type": "execute_result"
    }
   ],
   "source": [
    "InputFile = uproot.open(\"InputFile/QQQ5DataNew.root\")\n",
    "InputFile.keys()\n",
    "InputTree=InputFile[\"Q5Tree\"]\n",
    "InputTree.keys()\n",
    "InputTree.arrays([\"QQQ5Energy\",\"QQQ5Angle\",\"ExcitationEnergy\"])\n",
    "df = InputTree.pandas.df([\"QQQ5Energy*\",\"QQQ5Angle*\",\"ExcitationEnergy*\"])\n",
    "df['QQQ5Energy'] = 1000 * df['QQQ5Energy']\n",
    "df.head()"
   ]
  },
  {
   "cell_type": "markdown",
   "metadata": {},
   "source": [
    "## Preprocessing"
   ]
  },
  {
   "cell_type": "code",
   "execution_count": 4,
   "metadata": {},
   "outputs": [],
   "source": [
    "#Preprocessing using MinMaxScaler\n",
    "scaling = MinMaxScaler(feature_range=(-1,1))\n",
    "df[['QQQ5Energy','QQQ5Angle']] = scaling.fit_transform(df[['QQQ5Energy','QQQ5Angle']])\n",
    "df_X = df.iloc[:, 0:2]\n",
    "df_Y = df.iloc[:, 2:]\n",
    "\n",
    "#Making train and test data\n",
    "X_train, X_test, Y_train, Y_test = train_test_split(df_X,df_Y,test_size=0.3)"
   ]
  },
  {
   "cell_type": "markdown",
   "metadata": {},
   "source": [
    "### Sequential model with 1 hidden layers"
   ]
  },
  {
   "cell_type": "code",
   "execution_count": 5,
   "metadata": {},
   "outputs": [
    {
     "name": "stdout",
     "output_type": "stream",
     "text": [
      "WARNING:tensorflow:From /home/rajesh/.local/lib/python3.6/site-packages/tensorflow/python/ops/init_ops.py:1251: calling VarianceScaling.__init__ (from tensorflow.python.ops.init_ops) with dtype is deprecated and will be removed in a future version.\n",
      "Instructions for updating:\n",
      "Call initializer instance with the dtype argument instead of passing it to the constructor\n",
      "Model: \"model\"\n",
      "_________________________________________________________________\n",
      "Layer (type)                 Output Shape              Param #   \n",
      "=================================================================\n",
      "input_1 (InputLayer)         [(None, 2)]               0         \n",
      "_________________________________________________________________\n",
      "dense (Dense)                (None, 16)                48        \n",
      "_________________________________________________________________\n",
      "dense_1 (Dense)              (None, 1)                 17        \n",
      "=================================================================\n",
      "Total params: 65\n",
      "Trainable params: 65\n",
      "Non-trainable params: 0\n",
      "_________________________________________________________________\n"
     ]
    }
   ],
   "source": [
    "#Layers\n",
    "inputs=Input(shape=(X_train.shape[1],)) \n",
    "x=Dense(16,activation='relu') (inputs)\n",
    "#x=Dropout(0.1)(x) #Not over fitting, so not using Dropout\n",
    "predictions=Dense(1) (x)\n",
    "\n",
    "#Model\n",
    "model=Model(inputs=inputs, outputs=predictions)\n",
    "model.summary()\n",
    "\n",
    "#Compile\n",
    "opt = Adam(lr=0.001)\n",
    "model.compile(optimizer=opt, loss='mse',metrics=[\"mape\"])\n",
    "\n",
    "mcp_save = ModelCheckpoint('Model.h5', save_best_only=True, verbose=1)"
   ]
  },
  {
   "cell_type": "markdown",
   "metadata": {},
   "source": [
    "### Fitting"
   ]
  },
  {
   "cell_type": "code",
   "execution_count": 6,
   "metadata": {
    "scrolled": true
   },
   "outputs": [
    {
     "name": "stdout",
     "output_type": "stream",
     "text": [
      "Train on 337838 samples, validate on 144788 samples\n",
      "Epoch 1/20\n",
      "336160/337838 [============================>.] - ETA: 0s - loss: 4.6952 - mean_absolute_percentage_error: 21.0952\n",
      "Epoch 00001: val_loss improved from inf to 0.01715, saving model to Model.h5\n",
      "337838/337838 [==============================] - 11s 33us/sample - loss: 4.6719 - mean_absolute_percentage_error: 21.0015 - val_loss: 0.0172 - val_mean_absolute_percentage_error: 2.3020\n",
      "Epoch 2/20\n",
      "337536/337838 [============================>.] - ETA: 0s - loss: 0.0129 - mean_absolute_percentage_error: 4.9218\n",
      "Epoch 00002: val_loss improved from 0.01715 to 0.01241, saving model to Model.h5\n",
      "337838/337838 [==============================] - 11s 34us/sample - loss: 0.0128 - mean_absolute_percentage_error: 4.9181 - val_loss: 0.0124 - val_mean_absolute_percentage_error: 3.0624\n",
      "Epoch 3/20\n",
      "337120/337838 [============================>.] - ETA: 0s - loss: 0.0124 - mean_absolute_percentage_error: 5.3819\n",
      "Epoch 00003: val_loss did not improve from 0.01241\n",
      "337838/337838 [==============================] - 13s 38us/sample - loss: 0.0124 - mean_absolute_percentage_error: 5.3745 - val_loss: 0.0125 - val_mean_absolute_percentage_error: 2.7329\n",
      "Epoch 4/20\n",
      "337120/337838 [============================>.] - ETA: 0s - loss: 0.0121 - mean_absolute_percentage_error: 5.8820\n",
      "Epoch 00004: val_loss improved from 0.01241 to 0.01178, saving model to Model.h5\n",
      "337838/337838 [==============================] - 13s 39us/sample - loss: 0.0121 - mean_absolute_percentage_error: 5.8749 - val_loss: 0.0118 - val_mean_absolute_percentage_error: 3.1061\n",
      "Epoch 5/20\n",
      "335968/337838 [============================>.] - ETA: 0s - loss: 0.0116 - mean_absolute_percentage_error: 5.8251 ETA: 1s - los\n",
      "Epoch 00005: val_loss improved from 0.01178 to 0.01088, saving model to Model.h5\n",
      "337838/337838 [==============================] - 11s 34us/sample - loss: 0.0116 - mean_absolute_percentage_error: 5.8133 - val_loss: 0.0109 - val_mean_absolute_percentage_error: 2.7848\n",
      "Epoch 6/20\n",
      "336320/337838 [============================>.] - ETA: 0s - loss: 0.0082 - mean_absolute_percentage_error: 3.9311\n",
      "Epoch 00006: val_loss improved from 0.01088 to 0.00722, saving model to Model.h5\n",
      "337838/337838 [==============================] - 12s 35us/sample - loss: 0.0082 - mean_absolute_percentage_error: 3.9565 - val_loss: 0.0072 - val_mean_absolute_percentage_error: 3.3811\n",
      "Epoch 7/20\n",
      "337088/337838 [============================>.] - ETA: 0s - loss: 0.0054 - mean_absolute_percentage_error: 4.4999\n",
      "Epoch 00007: val_loss improved from 0.00722 to 0.00438, saving model to Model.h5\n",
      "337838/337838 [==============================] - 13s 38us/sample - loss: 0.0054 - mean_absolute_percentage_error: 4.4932 - val_loss: 0.0044 - val_mean_absolute_percentage_error: 1.7490\n",
      "Epoch 8/20\n",
      "337760/337838 [============================>.] - ETA: 0s - loss: 0.0041 - mean_absolute_percentage_error: 2.5474\n",
      "Epoch 00008: val_loss improved from 0.00438 to 0.00366, saving model to Model.h5\n",
      "337838/337838 [==============================] - 12s 35us/sample - loss: 0.0041 - mean_absolute_percentage_error: 2.5469 - val_loss: 0.0037 - val_mean_absolute_percentage_error: 1.9063\n",
      "Epoch 9/20\n",
      "336224/337838 [============================>.] - ETA: 0s - loss: 0.0037 - mean_absolute_percentage_error: 2.7994\n",
      "Epoch 00009: val_loss did not improve from 0.00366\n",
      "337838/337838 [==============================] - 11s 34us/sample - loss: 0.0037 - mean_absolute_percentage_error: 2.8545 - val_loss: 0.0038 - val_mean_absolute_percentage_error: 1.9323\n",
      "Epoch 10/20\n",
      "337088/337838 [============================>.] - ETA: 0s - loss: 0.0035 - mean_absolute_percentage_error: 2.9862\n",
      "Epoch 00010: val_loss improved from 0.00366 to 0.00325, saving model to Model.h5\n",
      "337838/337838 [==============================] - 11s 33us/sample - loss: 0.0035 - mean_absolute_percentage_error: 2.9806 - val_loss: 0.0032 - val_mean_absolute_percentage_error: 2.1597\n",
      "Epoch 11/20\n",
      "336768/337838 [============================>.] - ETA: 0s - loss: 0.0030 - mean_absolute_percentage_error: 2.5385\n",
      "Epoch 00011: val_loss improved from 0.00325 to 0.00266, saving model to Model.h5\n",
      "337838/337838 [==============================] - 11s 34us/sample - loss: 0.0030 - mean_absolute_percentage_error: 2.5332 - val_loss: 0.0027 - val_mean_absolute_percentage_error: 1.0075\n",
      "Epoch 12/20\n",
      "337344/337838 [============================>.] - ETA: 0s - loss: 0.0023 - mean_absolute_percentage_error: 1.2668\n",
      "Epoch 00012: val_loss improved from 0.00266 to 0.00215, saving model to Model.h5\n",
      "337838/337838 [==============================] - 11s 34us/sample - loss: 0.0023 - mean_absolute_percentage_error: 1.2656 - val_loss: 0.0022 - val_mean_absolute_percentage_error: 0.8599\n",
      "Epoch 13/20\n",
      "336224/337838 [============================>.] - ETA: 0s - loss: 0.0022 - mean_absolute_percentage_error: 1.5281\n",
      "Epoch 00013: val_loss did not improve from 0.00215\n",
      "337838/337838 [==============================] - 11s 33us/sample - loss: 0.0022 - mean_absolute_percentage_error: 1.5317 - val_loss: 0.0029 - val_mean_absolute_percentage_error: 1.5247\n",
      "Epoch 14/20\n",
      "336320/337838 [============================>.] - ETA: 0s - loss: 0.0021 - mean_absolute_percentage_error: 1.7270\n",
      "Epoch 00014: val_loss improved from 0.00215 to 0.00193, saving model to Model.h5\n",
      "337838/337838 [==============================] - 11s 33us/sample - loss: 0.0021 - mean_absolute_percentage_error: 1.7242 - val_loss: 0.0019 - val_mean_absolute_percentage_error: 1.9841\n",
      "Epoch 15/20\n",
      "336288/337838 [============================>.] - ETA: 0s - loss: 0.0020 - mean_absolute_percentage_error: 2.2725\n",
      "Epoch 00015: val_loss did not improve from 0.00193\n",
      "337838/337838 [==============================] - 11s 33us/sample - loss: 0.0020 - mean_absolute_percentage_error: 2.2741 - val_loss: 0.0020 - val_mean_absolute_percentage_error: 1.8126\n",
      "Epoch 16/20\n",
      "337312/337838 [============================>.] - ETA: 0s - loss: 0.0020 - mean_absolute_percentage_error: 2.5992\n",
      "Epoch 00016: val_loss did not improve from 0.00193\n",
      "337838/337838 [==============================] - 11s 33us/sample - loss: 0.0020 - mean_absolute_percentage_error: 2.5961 - val_loss: 0.0023 - val_mean_absolute_percentage_error: 2.1212\n",
      "Epoch 17/20\n",
      "336096/337838 [============================>.] - ETA: 0s - loss: 0.0019 - mean_absolute_percentage_error: 2.7835\n",
      "Epoch 00017: val_loss improved from 0.00193 to 0.00184, saving model to Model.h5\n",
      "337838/337838 [==============================] - 11s 33us/sample - loss: 0.0019 - mean_absolute_percentage_error: 2.7722 - val_loss: 0.0018 - val_mean_absolute_percentage_error: 2.1442\n",
      "Epoch 18/20\n",
      "336928/337838 [============================>.] - ETA: 0s - loss: 0.0019 - mean_absolute_percentage_error: 2.9165\n",
      "Epoch 00018: val_loss did not improve from 0.00184\n",
      "337838/337838 [==============================] - 11s 33us/sample - loss: 0.0019 - mean_absolute_percentage_error: 2.9393 - val_loss: 0.0019 - val_mean_absolute_percentage_error: 2.0475\n",
      "Epoch 19/20\n",
      "336640/337838 [============================>.] - ETA: 0s - loss: 0.0019 - mean_absolute_percentage_error: 3.2203\n",
      "Epoch 00019: val_loss did not improve from 0.00184\n",
      "337838/337838 [==============================] - 11s 33us/sample - loss: 0.0019 - mean_absolute_percentage_error: 3.2122 - val_loss: 0.0023 - val_mean_absolute_percentage_error: 2.2830\n",
      "Epoch 20/20\n",
      "337152/337838 [============================>.] - ETA: 0s - loss: 0.0019 - mean_absolute_percentage_error: 3.0967\n",
      "Epoch 00020: val_loss improved from 0.00184 to 0.00179, saving model to Model.h5\n",
      "337838/337838 [==============================] - 12s 34us/sample - loss: 0.0019 - mean_absolute_percentage_error: 3.0916 - val_loss: 0.0018 - val_mean_absolute_percentage_error: 2.2833\n"
     ]
    }
   ],
   "source": [
    "history = model.fit(X_train, Y_train, validation_data=(X_test, Y_test), epochs=20, batch_size=32, callbacks=[mcp_save])"
   ]
  },
  {
   "cell_type": "markdown",
   "metadata": {},
   "source": [
    "### Learning Curves"
   ]
  },
  {
   "cell_type": "code",
   "execution_count": 23,
   "metadata": {},
   "outputs": [
    {
     "data": {
      "image/png": "[encoded data removed]",
      "text/plain": [
       "<Figure size 432x288 with 1 Axes>"
      ]
     },
     "metadata": {
      "needs_background": "light"
     },
     "output_type": "display_data"
    },
    {
     "data": {
      "image/png": "[encoded data removed]",
      "text/plain": [
       "<Figure size 432x288 with 1 Axes>"
      ]
     },
     "metadata": {
      "needs_background": "light"
     },
     "output_type": "display_data"
    }
   ],
   "source": [
    "#Display of curves of loss and accuracy during training\n",
    "loss = history.history['loss']\n",
    "val_loss = history.history['val_loss']\n",
    "mape = history.history['mean_absolute_percentage_error']\n",
    "val_mape = history.history['val_mean_absolute_percentage_error']\n",
    "\n",
    "epochs = range(1, len(loss) + 1)\n",
    "\n",
    "plt.plot(epochs, mape, 'g--', label='Training Acc')\n",
    "plt.plot(epochs, val_mape, 'b--', label='Validation Acc')\n",
    "plt.title('Training and Validation Error',fontsize=18)\n",
    "plt.xlabel('Epochs',fontsize=12)\n",
    "plt.ylabel('Mean Abs Percent Error',fontsize=12)\n",
    "plt.ylim(0,100)\n",
    "plt.legend()\n",
    "plt.figure()\n",
    "plt.plot(epochs, loss, 'g--',label='Training Loss')\n",
    "plt.plot(epochs, val_loss,'b--', label='Validation loss')\n",
    "plt.title('Training and Validation Loss',fontsize=18)\n",
    "plt.xlabel('Epochs',fontsize=12)\n",
    "plt.ylabel('Loss',fontsize=12)\n",
    "plt.legend()\n",
    "plt.show()"
   ]
  },
  {
   "cell_type": "markdown",
   "metadata": {},
   "source": [
    "### Excitation Energy Prediction"
   ]
  },
  {
   "cell_type": "code",
   "execution_count": 28,
   "metadata": {},
   "outputs": [
    {
     "data": {
      "image/png": "[encoded data removed]",
      "text/plain": [
       "<Figure size 1296x360 with 1 Axes>"
      ]
     },
     "metadata": {
      "needs_background": "light"
     },
     "output_type": "display_data"
    }
   ],
   "source": [
    "Y_predicted = model.predict(X_test)\n",
    "df_Y_predicted = pd.DataFrame(Y_predicted, columns=['ExcitationEnergy'],index=X_test.index.copy())\n",
    "hist = df_Y_predicted[['ExcitationEnergy']].hist(bins=700, figsize = (18,5), range=(-1, 9), grid=False)"
   ]
  },
  {
   "cell_type": "code",
   "execution_count": 52,
   "metadata": {},
   "outputs": [
    {
     "data": {
      "text/plain": [
       "<matplotlib.legend.Legend at 0x7f8cd82a6278>"
      ]
     },
     "execution_count": 52,
     "metadata": {},
     "output_type": "execute_result"
    },
    {
     "data": {
      "image/png": "[encoded data removed]",
      "text/plain": [
       "<Figure size 432x288 with 1 Axes>"
      ]
     },
     "metadata": {
      "needs_background": "light"
     },
     "output_type": "display_data"
    }
   ],
   "source": [
    "plt.scatter(Y_test,df_Y_predicted['ExcitationEnergy'],marker='+',label=\"Predicted VS Actual\")\n",
    "plt.plot(Y_test, Y_test, color='red',label = 'x=y')\n",
    "plt.xlabel(\"Actual Value\")\n",
    "plt.ylabel(\"Predicted Value\")\n",
    "plt.xlim(0,16)\n",
    "plt.ylim(0,16)\n",
    "plt.legend()"
   ]
  }
 ],
 "metadata": {
  "kernelspec": {
   "display_name": "Python 3",
   "language": "python",
   "name": "python3"
  },
  "language_info": {
   "codemirror_mode": {
    "name": "ipython",
    "version": 3
   },
   "file_extension": ".py",
   "mimetype": "text/x-python",
   "name": "python",
   "nbconvert_exporter": "python",
   "pygments_lexer": "ipython3",
   "version": "3.6.9"
  }
 },
 "nbformat": 4,
 "nbformat_minor": 4
}
